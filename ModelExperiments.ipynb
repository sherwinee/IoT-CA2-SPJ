{
 "cells": [
  {
   "cell_type": "markdown",
   "metadata": {},
   "source": [
    "## Imports"
   ]
  },
  {
   "cell_type": "code",
   "execution_count": 1,
   "metadata": {},
   "outputs": [],
   "source": [
    "import pandas as pd\n",
    "from math import sqrt, ceil\n",
    "import os"
   ]
  },
  {
   "cell_type": "markdown",
   "metadata": {},
   "source": [
    "## Read Files"
   ]
  },
  {
   "cell_type": "code",
   "execution_count": 226,
   "metadata": {},
   "outputs": [
    {
     "name": "stdout",
     "output_type": "stream",
     "text": [
      "part0.csv Loaded\n",
      "part1.csv Loaded\n",
      "part2.csv Loaded\n",
      "part3.csv Loaded\n",
      "part4.csv Loaded\n",
      "part5.csv Loaded\n",
      "part6.csv Loaded\n",
      "part7.csv Loaded\n",
      "part8.csv Loaded\n",
      "part9.csv Loaded\n",
      "labels.csv Loaded\n",
      "\n",
      "Done\n"
     ]
    }
   ],
   "source": [
    "# Read all features files and concat them\n",
    "datasets_dir = 'C:/Users/sherw/OneDrive - Singapore Polytechnic/DISM 2021 S1/ITSP (FYP)/Jupyter/IOT/Datasets/'\n",
    "df_list = []\n",
    "os.listdir(datasets_dir)\n",
    "for file in os.listdir(datasets_dir):\n",
    "    df_buffer = pd.read_csv(datasets_dir + file)\n",
    "    df_list.append(df_buffer)\n",
    "    print(file + ' Loaded')\n",
    "df = pd.concat(df_list, axis=0, ignore_index=True) # Concat row-wise\n",
    "    \n",
    "# Read Label File    \n",
    "label_df = pd.read_csv('labels.csv')\n",
    "print('labels.csv Loaded')\n",
    "print('\\nDone')"
   ]
  },
  {
   "cell_type": "markdown",
   "metadata": {},
   "source": [
    "#### Sort DataFrames"
   ]
  },
  {
   "cell_type": "code",
   "execution_count": 227,
   "metadata": {},
   "outputs": [],
   "source": [
    "df = df.sort_values(by=['bookingID', 'second'], ascending=[True, True])\n",
    "label_df = label_df.sort_values(by='bookingID', ascending=True)"
   ]
  },
  {
   "cell_type": "code",
   "execution_count": 228,
   "metadata": {},
   "outputs": [
    {
     "data": {
      "text/html": [
       "<div>\n",
       "<style scoped>\n",
       "    .dataframe tbody tr th:only-of-type {\n",
       "        vertical-align: middle;\n",
       "    }\n",
       "\n",
       "    .dataframe tbody tr th {\n",
       "        vertical-align: top;\n",
       "    }\n",
       "\n",
       "    .dataframe thead th {\n",
       "        text-align: right;\n",
       "    }\n",
       "</style>\n",
       "<table border=\"1\" class=\"dataframe\">\n",
       "  <thead>\n",
       "    <tr style=\"text-align: right;\">\n",
       "      <th></th>\n",
       "      <th>bookingID</th>\n",
       "      <th>Accuracy</th>\n",
       "      <th>Bearing</th>\n",
       "      <th>acceleration_x</th>\n",
       "      <th>acceleration_y</th>\n",
       "      <th>acceleration_z</th>\n",
       "      <th>gyro_x</th>\n",
       "      <th>gyro_y</th>\n",
       "      <th>gyro_z</th>\n",
       "      <th>second</th>\n",
       "      <th>Speed</th>\n",
       "    </tr>\n",
       "  </thead>\n",
       "  <tbody>\n",
       "    <tr>\n",
       "      <th>10835302</th>\n",
       "      <td>0</td>\n",
       "      <td>12.0</td>\n",
       "      <td>143.298294</td>\n",
       "      <td>0.818112</td>\n",
       "      <td>-9.941461</td>\n",
       "      <td>-2.014999</td>\n",
       "      <td>-0.016245</td>\n",
       "      <td>-0.094040</td>\n",
       "      <td>0.070732</td>\n",
       "      <td>0.0</td>\n",
       "      <td>3.442991</td>\n",
       "    </tr>\n",
       "    <tr>\n",
       "      <th>12007854</th>\n",
       "      <td>0</td>\n",
       "      <td>8.0</td>\n",
       "      <td>143.298294</td>\n",
       "      <td>0.546405</td>\n",
       "      <td>-9.835590</td>\n",
       "      <td>-2.038925</td>\n",
       "      <td>-0.047092</td>\n",
       "      <td>-0.078874</td>\n",
       "      <td>0.043187</td>\n",
       "      <td>1.0</td>\n",
       "      <td>0.228454</td>\n",
       "    </tr>\n",
       "    <tr>\n",
       "      <th>3394723</th>\n",
       "      <td>0</td>\n",
       "      <td>8.0</td>\n",
       "      <td>143.298294</td>\n",
       "      <td>-1.706207</td>\n",
       "      <td>-9.270792</td>\n",
       "      <td>-1.209448</td>\n",
       "      <td>-0.028965</td>\n",
       "      <td>-0.032652</td>\n",
       "      <td>0.015390</td>\n",
       "      <td>2.0</td>\n",
       "      <td>0.228454</td>\n",
       "    </tr>\n",
       "    <tr>\n",
       "      <th>436147</th>\n",
       "      <td>0</td>\n",
       "      <td>8.0</td>\n",
       "      <td>143.298294</td>\n",
       "      <td>-1.416705</td>\n",
       "      <td>-9.548032</td>\n",
       "      <td>-1.860977</td>\n",
       "      <td>-0.022413</td>\n",
       "      <td>0.005049</td>\n",
       "      <td>-0.025753</td>\n",
       "      <td>3.0</td>\n",
       "      <td>0.228454</td>\n",
       "    </tr>\n",
       "    <tr>\n",
       "      <th>9490986</th>\n",
       "      <td>0</td>\n",
       "      <td>8.0</td>\n",
       "      <td>143.298294</td>\n",
       "      <td>-0.598145</td>\n",
       "      <td>-9.853534</td>\n",
       "      <td>-1.378574</td>\n",
       "      <td>-0.014297</td>\n",
       "      <td>-0.046206</td>\n",
       "      <td>0.021902</td>\n",
       "      <td>4.0</td>\n",
       "      <td>0.228454</td>\n",
       "    </tr>\n",
       "  </tbody>\n",
       "</table>\n",
       "</div>"
      ],
      "text/plain": [
       "          bookingID  Accuracy     Bearing  acceleration_x  acceleration_y  \\\n",
       "10835302          0      12.0  143.298294        0.818112       -9.941461   \n",
       "12007854          0       8.0  143.298294        0.546405       -9.835590   \n",
       "3394723           0       8.0  143.298294       -1.706207       -9.270792   \n",
       "436147            0       8.0  143.298294       -1.416705       -9.548032   \n",
       "9490986           0       8.0  143.298294       -0.598145       -9.853534   \n",
       "\n",
       "          acceleration_z    gyro_x    gyro_y    gyro_z  second     Speed  \n",
       "10835302       -2.014999 -0.016245 -0.094040  0.070732     0.0  3.442991  \n",
       "12007854       -2.038925 -0.047092 -0.078874  0.043187     1.0  0.228454  \n",
       "3394723        -1.209448 -0.028965 -0.032652  0.015390     2.0  0.228454  \n",
       "436147         -1.860977 -0.022413  0.005049 -0.025753     3.0  0.228454  \n",
       "9490986        -1.378574 -0.014297 -0.046206  0.021902     4.0  0.228454  "
      ]
     },
     "execution_count": 228,
     "metadata": {},
     "output_type": "execute_result"
    }
   ],
   "source": [
    "df.head()"
   ]
  },
  {
   "cell_type": "code",
   "execution_count": 229,
   "metadata": {},
   "outputs": [
    {
     "data": {
      "text/html": [
       "<div>\n",
       "<style scoped>\n",
       "    .dataframe tbody tr th:only-of-type {\n",
       "        vertical-align: middle;\n",
       "    }\n",
       "\n",
       "    .dataframe tbody tr th {\n",
       "        vertical-align: top;\n",
       "    }\n",
       "\n",
       "    .dataframe thead th {\n",
       "        text-align: right;\n",
       "    }\n",
       "</style>\n",
       "<table border=\"1\" class=\"dataframe\">\n",
       "  <thead>\n",
       "    <tr style=\"text-align: right;\">\n",
       "      <th></th>\n",
       "      <th>bookingID</th>\n",
       "      <th>label</th>\n",
       "    </tr>\n",
       "  </thead>\n",
       "  <tbody>\n",
       "    <tr>\n",
       "      <th>15035</th>\n",
       "      <td>0</td>\n",
       "      <td>0</td>\n",
       "    </tr>\n",
       "    <tr>\n",
       "      <th>13312</th>\n",
       "      <td>1</td>\n",
       "      <td>1</td>\n",
       "    </tr>\n",
       "    <tr>\n",
       "      <th>996</th>\n",
       "      <td>2</td>\n",
       "      <td>1</td>\n",
       "    </tr>\n",
       "    <tr>\n",
       "      <th>2328</th>\n",
       "      <td>4</td>\n",
       "      <td>1</td>\n",
       "    </tr>\n",
       "    <tr>\n",
       "      <th>5192</th>\n",
       "      <td>6</td>\n",
       "      <td>0</td>\n",
       "    </tr>\n",
       "  </tbody>\n",
       "</table>\n",
       "</div>"
      ],
      "text/plain": [
       "       bookingID  label\n",
       "15035          0      0\n",
       "13312          1      1\n",
       "996            2      1\n",
       "2328           4      1\n",
       "5192           6      0"
      ]
     },
     "execution_count": 229,
     "metadata": {},
     "output_type": "execute_result"
    }
   ],
   "source": [
    "label_df.head()"
   ]
  },
  {
   "cell_type": "markdown",
   "metadata": {},
   "source": [
    "## Data Cleaning"
   ]
  },
  {
   "cell_type": "markdown",
   "metadata": {},
   "source": [
    "### Removing duplicates and conflicts"
   ]
  },
  {
   "cell_type": "code",
   "execution_count": 230,
   "metadata": {},
   "outputs": [],
   "source": [
    "duplicate_ids = list(label_df[label_df['bookingID'].duplicated() == True]['bookingID'])"
   ]
  },
  {
   "cell_type": "code",
   "execution_count": 231,
   "metadata": {
    "scrolled": true
   },
   "outputs": [
    {
     "data": {
      "text/plain": [
       "18"
      ]
     },
     "execution_count": 231,
     "metadata": {},
     "output_type": "execute_result"
    }
   ],
   "source": [
    "len(duplicate_ids)"
   ]
  },
  {
   "cell_type": "markdown",
   "metadata": {},
   "source": [
    "There are duplicate IDs within the labels, therefore they should be removed"
   ]
  },
  {
   "cell_type": "code",
   "execution_count": 232,
   "metadata": {},
   "outputs": [
    {
     "data": {
      "text/html": [
       "<div>\n",
       "<style scoped>\n",
       "    .dataframe tbody tr th:only-of-type {\n",
       "        vertical-align: middle;\n",
       "    }\n",
       "\n",
       "    .dataframe tbody tr th {\n",
       "        vertical-align: top;\n",
       "    }\n",
       "\n",
       "    .dataframe thead th {\n",
       "        text-align: right;\n",
       "    }\n",
       "</style>\n",
       "<table border=\"1\" class=\"dataframe\">\n",
       "  <thead>\n",
       "    <tr style=\"text-align: right;\">\n",
       "      <th></th>\n",
       "      <th>bookingID</th>\n",
       "      <th>label</th>\n",
       "    </tr>\n",
       "  </thead>\n",
       "  <tbody>\n",
       "    <tr>\n",
       "      <th>12463</th>\n",
       "      <td>13</td>\n",
       "      <td>0</td>\n",
       "    </tr>\n",
       "    <tr>\n",
       "      <th>2351</th>\n",
       "      <td>154618822837</td>\n",
       "      <td>1</td>\n",
       "    </tr>\n",
       "    <tr>\n",
       "      <th>6212</th>\n",
       "      <td>223338299461</td>\n",
       "      <td>0</td>\n",
       "    </tr>\n",
       "    <tr>\n",
       "      <th>6121</th>\n",
       "      <td>395136991308</td>\n",
       "      <td>1</td>\n",
       "    </tr>\n",
       "    <tr>\n",
       "      <th>17623</th>\n",
       "      <td>403726925929</td>\n",
       "      <td>1</td>\n",
       "    </tr>\n",
       "    <tr>\n",
       "      <th>2858</th>\n",
       "      <td>455266533495</td>\n",
       "      <td>1</td>\n",
       "    </tr>\n",
       "    <tr>\n",
       "      <th>18027</th>\n",
       "      <td>481036337234</td>\n",
       "      <td>0</td>\n",
       "    </tr>\n",
       "    <tr>\n",
       "      <th>16462</th>\n",
       "      <td>515396075694</td>\n",
       "      <td>0</td>\n",
       "    </tr>\n",
       "    <tr>\n",
       "      <th>17001</th>\n",
       "      <td>695784702084</td>\n",
       "      <td>1</td>\n",
       "    </tr>\n",
       "    <tr>\n",
       "      <th>18951</th>\n",
       "      <td>919123001348</td>\n",
       "      <td>0</td>\n",
       "    </tr>\n",
       "    <tr>\n",
       "      <th>2721</th>\n",
       "      <td>970662608932</td>\n",
       "      <td>0</td>\n",
       "    </tr>\n",
       "    <tr>\n",
       "      <th>6168</th>\n",
       "      <td>1279900254294</td>\n",
       "      <td>1</td>\n",
       "    </tr>\n",
       "    <tr>\n",
       "      <th>16990</th>\n",
       "      <td>1348619731077</td>\n",
       "      <td>0</td>\n",
       "    </tr>\n",
       "    <tr>\n",
       "      <th>14942</th>\n",
       "      <td>1391569403991</td>\n",
       "      <td>1</td>\n",
       "    </tr>\n",
       "    <tr>\n",
       "      <th>16340</th>\n",
       "      <td>1408749273124</td>\n",
       "      <td>1</td>\n",
       "    </tr>\n",
       "    <tr>\n",
       "      <th>6516</th>\n",
       "      <td>1511828488211</td>\n",
       "      <td>0</td>\n",
       "    </tr>\n",
       "    <tr>\n",
       "      <th>14432</th>\n",
       "      <td>1632087572573</td>\n",
       "      <td>0</td>\n",
       "    </tr>\n",
       "    <tr>\n",
       "      <th>13688</th>\n",
       "      <td>1649267441751</td>\n",
       "      <td>1</td>\n",
       "    </tr>\n",
       "  </tbody>\n",
       "</table>\n",
       "</div>"
      ],
      "text/plain": [
       "           bookingID  label\n",
       "12463             13      0\n",
       "2351    154618822837      1\n",
       "6212    223338299461      0\n",
       "6121    395136991308      1\n",
       "17623   403726925929      1\n",
       "2858    455266533495      1\n",
       "18027   481036337234      0\n",
       "16462   515396075694      0\n",
       "17001   695784702084      1\n",
       "18951   919123001348      0\n",
       "2721    970662608932      0\n",
       "6168   1279900254294      1\n",
       "16990  1348619731077      0\n",
       "14942  1391569403991      1\n",
       "16340  1408749273124      1\n",
       "6516   1511828488211      0\n",
       "14432  1632087572573      0\n",
       "13688  1649267441751      1"
      ]
     },
     "execution_count": 232,
     "metadata": {},
     "output_type": "execute_result"
    }
   ],
   "source": [
    "label_df[label_df['bookingID'].duplicated() == True].sort_values('bookingID')"
   ]
  },
  {
   "cell_type": "code",
   "execution_count": 233,
   "metadata": {},
   "outputs": [
    {
     "data": {
      "text/plain": [
       "(16135561, 11)"
      ]
     },
     "execution_count": 233,
     "metadata": {},
     "output_type": "execute_result"
    }
   ],
   "source": [
    "df.shape"
   ]
  },
  {
   "cell_type": "code",
   "execution_count": 234,
   "metadata": {},
   "outputs": [
    {
     "data": {
      "text/plain": [
       "(20018, 2)"
      ]
     },
     "execution_count": 234,
     "metadata": {},
     "output_type": "execute_result"
    }
   ],
   "source": [
    "label_df.shape"
   ]
  },
  {
   "cell_type": "code",
   "execution_count": 235,
   "metadata": {},
   "outputs": [],
   "source": [
    "df = df[~df['bookingID'].isin(duplicate_ids)]\n",
    "label_df = label_df[~label_df['bookingID'].isin(duplicate_ids)]"
   ]
  },
  {
   "cell_type": "code",
   "execution_count": 236,
   "metadata": {
    "scrolled": true
   },
   "outputs": [
    {
     "data": {
      "text/plain": [
       "(16116704, 11)"
      ]
     },
     "execution_count": 236,
     "metadata": {},
     "output_type": "execute_result"
    }
   ],
   "source": [
    "df.shape"
   ]
  },
  {
   "cell_type": "code",
   "execution_count": 237,
   "metadata": {},
   "outputs": [
    {
     "data": {
      "text/plain": [
       "(19982, 2)"
      ]
     },
     "execution_count": 237,
     "metadata": {},
     "output_type": "execute_result"
    }
   ],
   "source": [
    "label_df.shape"
   ]
  },
  {
   "cell_type": "markdown",
   "metadata": {},
   "source": [
    "### Dropping inaccurate data"
   ]
  },
  {
   "cell_type": "code",
   "execution_count": 238,
   "metadata": {},
   "outputs": [
    {
     "data": {
      "text/plain": [
       "(16116704, 11)"
      ]
     },
     "execution_count": 238,
     "metadata": {},
     "output_type": "execute_result"
    }
   ],
   "source": [
    "df.shape"
   ]
  },
  {
   "cell_type": "code",
   "execution_count": 239,
   "metadata": {},
   "outputs": [],
   "source": [
    "df = df[df['Accuracy'] <= 10]"
   ]
  },
  {
   "cell_type": "code",
   "execution_count": 240,
   "metadata": {},
   "outputs": [
    {
     "data": {
      "text/plain": [
       "(14088943, 11)"
      ]
     },
     "execution_count": 240,
     "metadata": {},
     "output_type": "execute_result"
    }
   ],
   "source": [
    "df.shape"
   ]
  },
  {
   "cell_type": "markdown",
   "metadata": {},
   "source": [
    "### Accounting complete loss of trip data from cleaning"
   ]
  },
  {
   "cell_type": "code",
   "execution_count": 241,
   "metadata": {},
   "outputs": [],
   "source": [
    "remaining_ids = list(df['bookingID'])\n",
    "label_df = label_df[label_df['bookingID'].isin(remaining_ids)]"
   ]
  },
  {
   "cell_type": "code",
   "execution_count": 242,
   "metadata": {},
   "outputs": [
    {
     "data": {
      "text/plain": [
       "(19827, 2)"
      ]
     },
     "execution_count": 242,
     "metadata": {},
     "output_type": "execute_result"
    }
   ],
   "source": [
    "label_df.shape"
   ]
  },
  {
   "cell_type": "markdown",
   "metadata": {},
   "source": [
    "Further data cleaning to be done after feature engineering"
   ]
  },
  {
   "cell_type": "markdown",
   "metadata": {},
   "source": [
    "## Feature Engineering"
   ]
  },
  {
   "cell_type": "code",
   "execution_count": 243,
   "metadata": {},
   "outputs": [
    {
     "data": {
      "text/html": [
       "<div>\n",
       "<style scoped>\n",
       "    .dataframe tbody tr th:only-of-type {\n",
       "        vertical-align: middle;\n",
       "    }\n",
       "\n",
       "    .dataframe tbody tr th {\n",
       "        vertical-align: top;\n",
       "    }\n",
       "\n",
       "    .dataframe thead th {\n",
       "        text-align: right;\n",
       "    }\n",
       "</style>\n",
       "<table border=\"1\" class=\"dataframe\">\n",
       "  <thead>\n",
       "    <tr style=\"text-align: right;\">\n",
       "      <th></th>\n",
       "      <th>bookingID</th>\n",
       "      <th>Accuracy</th>\n",
       "      <th>Bearing</th>\n",
       "      <th>acceleration_x</th>\n",
       "      <th>acceleration_y</th>\n",
       "      <th>acceleration_z</th>\n",
       "      <th>gyro_x</th>\n",
       "      <th>gyro_y</th>\n",
       "      <th>gyro_z</th>\n",
       "      <th>second</th>\n",
       "      <th>Speed</th>\n",
       "    </tr>\n",
       "  </thead>\n",
       "  <tbody>\n",
       "    <tr>\n",
       "      <th>12007854</th>\n",
       "      <td>0</td>\n",
       "      <td>8.0</td>\n",
       "      <td>143.298294</td>\n",
       "      <td>0.546405</td>\n",
       "      <td>-9.835590</td>\n",
       "      <td>-2.038925</td>\n",
       "      <td>-0.047092</td>\n",
       "      <td>-0.078874</td>\n",
       "      <td>0.043187</td>\n",
       "      <td>1.0</td>\n",
       "      <td>0.228454</td>\n",
       "    </tr>\n",
       "    <tr>\n",
       "      <th>3394723</th>\n",
       "      <td>0</td>\n",
       "      <td>8.0</td>\n",
       "      <td>143.298294</td>\n",
       "      <td>-1.706207</td>\n",
       "      <td>-9.270792</td>\n",
       "      <td>-1.209448</td>\n",
       "      <td>-0.028965</td>\n",
       "      <td>-0.032652</td>\n",
       "      <td>0.015390</td>\n",
       "      <td>2.0</td>\n",
       "      <td>0.228454</td>\n",
       "    </tr>\n",
       "    <tr>\n",
       "      <th>436147</th>\n",
       "      <td>0</td>\n",
       "      <td>8.0</td>\n",
       "      <td>143.298294</td>\n",
       "      <td>-1.416705</td>\n",
       "      <td>-9.548032</td>\n",
       "      <td>-1.860977</td>\n",
       "      <td>-0.022413</td>\n",
       "      <td>0.005049</td>\n",
       "      <td>-0.025753</td>\n",
       "      <td>3.0</td>\n",
       "      <td>0.228454</td>\n",
       "    </tr>\n",
       "    <tr>\n",
       "      <th>9490986</th>\n",
       "      <td>0</td>\n",
       "      <td>8.0</td>\n",
       "      <td>143.298294</td>\n",
       "      <td>-0.598145</td>\n",
       "      <td>-9.853534</td>\n",
       "      <td>-1.378574</td>\n",
       "      <td>-0.014297</td>\n",
       "      <td>-0.046206</td>\n",
       "      <td>0.021902</td>\n",
       "      <td>4.0</td>\n",
       "      <td>0.228454</td>\n",
       "    </tr>\n",
       "    <tr>\n",
       "      <th>14879334</th>\n",
       "      <td>0</td>\n",
       "      <td>8.0</td>\n",
       "      <td>143.298294</td>\n",
       "      <td>-0.608313</td>\n",
       "      <td>-9.539658</td>\n",
       "      <td>-1.794583</td>\n",
       "      <td>-0.007538</td>\n",
       "      <td>-0.023838</td>\n",
       "      <td>0.018068</td>\n",
       "      <td>5.0</td>\n",
       "      <td>0.228454</td>\n",
       "    </tr>\n",
       "    <tr>\n",
       "      <th>12708272</th>\n",
       "      <td>0</td>\n",
       "      <td>8.0</td>\n",
       "      <td>143.298294</td>\n",
       "      <td>-0.867758</td>\n",
       "      <td>-9.698615</td>\n",
       "      <td>-1.615439</td>\n",
       "      <td>0.022728</td>\n",
       "      <td>-0.012178</td>\n",
       "      <td>0.005982</td>\n",
       "      <td>6.0</td>\n",
       "      <td>0.228454</td>\n",
       "    </tr>\n",
       "    <tr>\n",
       "      <th>10448339</th>\n",
       "      <td>0</td>\n",
       "      <td>8.0</td>\n",
       "      <td>143.298294</td>\n",
       "      <td>-1.050790</td>\n",
       "      <td>-9.745270</td>\n",
       "      <td>-1.411771</td>\n",
       "      <td>0.027603</td>\n",
       "      <td>0.001841</td>\n",
       "      <td>0.000904</td>\n",
       "      <td>7.0</td>\n",
       "      <td>0.228454</td>\n",
       "    </tr>\n",
       "    <tr>\n",
       "      <th>6152991</th>\n",
       "      <td>0</td>\n",
       "      <td>8.0</td>\n",
       "      <td>143.298294</td>\n",
       "      <td>-0.721213</td>\n",
       "      <td>-9.960004</td>\n",
       "      <td>-1.202271</td>\n",
       "      <td>0.001864</td>\n",
       "      <td>-0.007702</td>\n",
       "      <td>0.014018</td>\n",
       "      <td>8.0</td>\n",
       "      <td>0.228454</td>\n",
       "    </tr>\n",
       "    <tr>\n",
       "      <th>5786265</th>\n",
       "      <td>0</td>\n",
       "      <td>8.0</td>\n",
       "      <td>143.298294</td>\n",
       "      <td>-0.346924</td>\n",
       "      <td>-9.532629</td>\n",
       "      <td>-1.204663</td>\n",
       "      <td>0.014962</td>\n",
       "      <td>-0.050033</td>\n",
       "      <td>0.025118</td>\n",
       "      <td>9.0</td>\n",
       "      <td>0.228454</td>\n",
       "    </tr>\n",
       "    <tr>\n",
       "      <th>14142029</th>\n",
       "      <td>0</td>\n",
       "      <td>8.0</td>\n",
       "      <td>143.298294</td>\n",
       "      <td>0.294586</td>\n",
       "      <td>-10.085315</td>\n",
       "      <td>-1.531100</td>\n",
       "      <td>0.004587</td>\n",
       "      <td>-0.077703</td>\n",
       "      <td>0.069096</td>\n",
       "      <td>10.0</td>\n",
       "      <td>0.228454</td>\n",
       "    </tr>\n",
       "  </tbody>\n",
       "</table>\n",
       "</div>"
      ],
      "text/plain": [
       "          bookingID  Accuracy     Bearing  acceleration_x  acceleration_y  \\\n",
       "12007854          0       8.0  143.298294        0.546405       -9.835590   \n",
       "3394723           0       8.0  143.298294       -1.706207       -9.270792   \n",
       "436147            0       8.0  143.298294       -1.416705       -9.548032   \n",
       "9490986           0       8.0  143.298294       -0.598145       -9.853534   \n",
       "14879334          0       8.0  143.298294       -0.608313       -9.539658   \n",
       "12708272          0       8.0  143.298294       -0.867758       -9.698615   \n",
       "10448339          0       8.0  143.298294       -1.050790       -9.745270   \n",
       "6152991           0       8.0  143.298294       -0.721213       -9.960004   \n",
       "5786265           0       8.0  143.298294       -0.346924       -9.532629   \n",
       "14142029          0       8.0  143.298294        0.294586      -10.085315   \n",
       "\n",
       "          acceleration_z    gyro_x    gyro_y    gyro_z  second     Speed  \n",
       "12007854       -2.038925 -0.047092 -0.078874  0.043187     1.0  0.228454  \n",
       "3394723        -1.209448 -0.028965 -0.032652  0.015390     2.0  0.228454  \n",
       "436147         -1.860977 -0.022413  0.005049 -0.025753     3.0  0.228454  \n",
       "9490986        -1.378574 -0.014297 -0.046206  0.021902     4.0  0.228454  \n",
       "14879334       -1.794583 -0.007538 -0.023838  0.018068     5.0  0.228454  \n",
       "12708272       -1.615439  0.022728 -0.012178  0.005982     6.0  0.228454  \n",
       "10448339       -1.411771  0.027603  0.001841  0.000904     7.0  0.228454  \n",
       "6152991        -1.202271  0.001864 -0.007702  0.014018     8.0  0.228454  \n",
       "5786265        -1.204663  0.014962 -0.050033  0.025118     9.0  0.228454  \n",
       "14142029       -1.531100  0.004587 -0.077703  0.069096    10.0  0.228454  "
      ]
     },
     "execution_count": 243,
     "metadata": {},
     "output_type": "execute_result"
    }
   ],
   "source": [
    "df.head(10)"
   ]
  },
  {
   "cell_type": "markdown",
   "metadata": {},
   "source": [
    "### Get 'Net' Acceleration from the 3 axis"
   ]
  },
  {
   "cell_type": "code",
   "execution_count": 244,
   "metadata": {},
   "outputs": [
    {
     "name": "stdout",
     "output_type": "stream",
     "text": [
      "Wall time: 5min 6s\n"
     ]
    }
   ],
   "source": [
    "%%time\n",
    "df['acceleration_xyz'] = df.apply(lambda x: sqrt((x['acceleration_x'] ** 2) + (x['acceleration_y'] ** 2) + (x['acceleration_z'] ** 2)), axis=1)"
   ]
  },
  {
   "cell_type": "markdown",
   "metadata": {},
   "source": [
    "### Gyroscope Data"
   ]
  },
  {
   "cell_type": "code",
   "execution_count": 245,
   "metadata": {},
   "outputs": [],
   "source": [
    "# Use PCA to process Gyro data\n",
    "from sklearn.decomposition import PCA\n",
    "gyro_pca = PCA(n_components=1).fit(df.loc[:, ['gyro_x', 'gyro_y', 'gyro_z']])\n",
    "gyro_pca.explained_variance_ratio_\n",
    "df['gyro'] = gyro_pca.transform(df.loc[:, ('gyro_x', 'gyro_y', 'gyro_z')])\n",
    "df.drop(['gyro_x', 'gyro_y','gyro_z'], axis=1, inplace=True)"
   ]
  },
  {
   "cell_type": "markdown",
   "metadata": {},
   "source": [
    "### Getting speed list for every trip"
   ]
  },
  {
   "cell_type": "code",
   "execution_count": 246,
   "metadata": {},
   "outputs": [],
   "source": [
    "def get_percentile(values, percentile):\n",
    "    values = sorted(values)\n",
    "    index = (float(percentile) / 100) * len(values)\n",
    "    if index.is_integer():\n",
    "        index = int(index)\n",
    "        value = (values[index - 1] + values[index]) / 2\n",
    "    else:\n",
    "        value = values[ceil(index - 1)]\n",
    "    return value\n",
    "\n",
    "def get_mean(values):\n",
    "    return sum(values) / len(values)"
   ]
  },
  {
   "cell_type": "code",
   "execution_count": 247,
   "metadata": {},
   "outputs": [
    {
     "name": "stdout",
     "output_type": "stream",
     "text": [
      "Wall time: 13min 50s\n"
     ]
    }
   ],
   "source": [
    "%%time\n",
    "speed_dict = {}\n",
    "accel_dict = {}\n",
    "gyro_dict = {}\n",
    "counter=0\n",
    "for index, row in df.iterrows():\n",
    "    bid = row['bookingID']\n",
    "    speed = float(row['Speed'])\n",
    "    accel = float(row['acceleration_xyz'])\n",
    "    gyro = float(row['gyro'])\n",
    "    if bid in speed_dict:\n",
    "        speed_dict[bid].append(speed)\n",
    "        accel_dict[bid].append(accel)\n",
    "        gyro_dict[bid].append(gyro)\n",
    "    else:\n",
    "        speed_dict[bid] = [speed]\n",
    "        accel_dict[bid] = [accel]\n",
    "        gyro_dict[bid] = [gyro]"
   ]
  },
  {
   "cell_type": "code",
   "execution_count": 248,
   "metadata": {},
   "outputs": [],
   "source": [
    "# Speed Statistics\n",
    "label_df['90pct_speed'] = label_df.apply(lambda x: get_percentile(speed_dict[x['bookingID']].copy(), 90), axis=1)\n",
    "label_df['median_speed'] = label_df.apply(lambda x: get_percentile(speed_dict[x['bookingID']].copy(), 50), axis=1)\n",
    "label_df['mean_speed'] = label_df.apply(lambda x: get_mean(speed_dict[x['bookingID']].copy()), axis=1)\n",
    "label_df['max_speed'] = label_df.apply(lambda x: max(speed_dict[x['bookingID']].copy()), axis=1)\n",
    "\n",
    "# Acceleration Statistics\n",
    "label_df['90pct_acceleration'] = label_df.apply(lambda x: get_percentile(accel_dict[x['bookingID']].copy(), 90), axis=1)\n",
    "label_df['median_acceleration'] = label_df.apply(lambda x: get_percentile(accel_dict[x['bookingID']].copy(), 50), axis=1)\n",
    "label_df['mean_acceleration'] = label_df.apply(lambda x: get_mean(accel_dict[x['bookingID']].copy()), axis=1)\n",
    "label_df['max_acceleration'] = label_df.apply(lambda x: max(accel_dict[x['bookingID']].copy()), axis=1)\n",
    "\n",
    "# Acceleration Statistics\n",
    "label_df['75pct_gyro'] = label_df.apply(lambda x: get_percentile(gyro_dict[x['bookingID']].copy(), 75), axis=1)\n",
    "label_df['median_gyro'] = label_df.apply(lambda x: get_percentile(gyro_dict[x['bookingID']].copy(), 50), axis=1)\n",
    "label_df['25pct_gyro'] = label_df.apply(lambda x: get_percentile(gyro_dict[x['bookingID']].copy(), 25), axis=1)\n",
    "label_df['mean_gyro'] = label_df.apply(lambda x: get_mean(gyro_dict[x['bookingID']].copy()), axis=1)\n",
    "label_df['max_gyro'] = label_df.apply(lambda x: max(gyro_dict[x['bookingID']].copy()), axis=1)"
   ]
  },
  {
   "cell_type": "markdown",
   "metadata": {},
   "source": [
    "## Further Data Cleaning (After Feature Engineering)\n",
    "Dropping those wth a 90th percentile speed of only 5 m/s"
   ]
  },
  {
   "cell_type": "code",
   "execution_count": 249,
   "metadata": {},
   "outputs": [
    {
     "data": {
      "text/plain": [
       "(459, 15)"
      ]
     },
     "execution_count": 249,
     "metadata": {},
     "output_type": "execute_result"
    }
   ],
   "source": [
    "label_df.sort_values('90pct_speed')[label_df.sort_values('90pct_speed')['90pct_speed'] <= 5.0].shape"
   ]
  },
  {
   "cell_type": "code",
   "execution_count": 250,
   "metadata": {},
   "outputs": [],
   "source": [
    "# Drop rows with 90 percentile speed 5\n",
    "label_df = label_df[label_df['90pct_speed'] > 5.0]"
   ]
  },
  {
   "cell_type": "markdown",
   "metadata": {},
   "source": [
    "### Final DataFrame"
   ]
  },
  {
   "cell_type": "code",
   "execution_count": 251,
   "metadata": {},
   "outputs": [
    {
     "data": {
      "text/html": [
       "<div>\n",
       "<style scoped>\n",
       "    .dataframe tbody tr th:only-of-type {\n",
       "        vertical-align: middle;\n",
       "    }\n",
       "\n",
       "    .dataframe tbody tr th {\n",
       "        vertical-align: top;\n",
       "    }\n",
       "\n",
       "    .dataframe thead th {\n",
       "        text-align: right;\n",
       "    }\n",
       "</style>\n",
       "<table border=\"1\" class=\"dataframe\">\n",
       "  <thead>\n",
       "    <tr style=\"text-align: right;\">\n",
       "      <th></th>\n",
       "      <th>bookingID</th>\n",
       "      <th>label</th>\n",
       "      <th>90pct_speed</th>\n",
       "      <th>median_speed</th>\n",
       "      <th>mean_speed</th>\n",
       "      <th>max_speed</th>\n",
       "      <th>90pct_acceleration</th>\n",
       "      <th>median_acceleration</th>\n",
       "      <th>mean_acceleration</th>\n",
       "      <th>max_acceleration</th>\n",
       "      <th>75pct_gyro</th>\n",
       "      <th>median_gyro</th>\n",
       "      <th>25pct_gyro</th>\n",
       "      <th>mean_gyro</th>\n",
       "      <th>max_gyro</th>\n",
       "    </tr>\n",
       "  </thead>\n",
       "  <tbody>\n",
       "    <tr>\n",
       "      <th>15035</th>\n",
       "      <td>0</td>\n",
       "      <td>0</td>\n",
       "      <td>19.506432</td>\n",
       "      <td>13.356852</td>\n",
       "      <td>11.429956</td>\n",
       "      <td>22.946083</td>\n",
       "      <td>10.642897</td>\n",
       "      <td>9.859265</td>\n",
       "      <td>9.893719</td>\n",
       "      <td>12.988328</td>\n",
       "      <td>0.038963</td>\n",
       "      <td>-0.001943</td>\n",
       "      <td>-0.049647</td>\n",
       "      <td>-0.005533</td>\n",
       "      <td>0.417845</td>\n",
       "    </tr>\n",
       "    <tr>\n",
       "      <th>13312</th>\n",
       "      <td>1</td>\n",
       "      <td>1</td>\n",
       "      <td>18.593060</td>\n",
       "      <td>6.904588</td>\n",
       "      <td>7.881588</td>\n",
       "      <td>21.882141</td>\n",
       "      <td>10.462093</td>\n",
       "      <td>9.844748</td>\n",
       "      <td>9.862507</td>\n",
       "      <td>12.790147</td>\n",
       "      <td>0.023804</td>\n",
       "      <td>-0.003652</td>\n",
       "      <td>-0.034759</td>\n",
       "      <td>-0.007711</td>\n",
       "      <td>0.465599</td>\n",
       "    </tr>\n",
       "    <tr>\n",
       "      <th>996</th>\n",
       "      <td>2</td>\n",
       "      <td>1</td>\n",
       "      <td>7.276345</td>\n",
       "      <td>2.998761</td>\n",
       "      <td>3.157213</td>\n",
       "      <td>9.360483</td>\n",
       "      <td>10.346133</td>\n",
       "      <td>9.877755</td>\n",
       "      <td>9.929590</td>\n",
       "      <td>13.403410</td>\n",
       "      <td>0.023771</td>\n",
       "      <td>0.001292</td>\n",
       "      <td>-0.044196</td>\n",
       "      <td>-0.012706</td>\n",
       "      <td>0.433975</td>\n",
       "    </tr>\n",
       "    <tr>\n",
       "      <th>2328</th>\n",
       "      <td>4</td>\n",
       "      <td>1</td>\n",
       "      <td>16.150000</td>\n",
       "      <td>3.310000</td>\n",
       "      <td>6.150996</td>\n",
       "      <td>19.780001</td>\n",
       "      <td>10.276516</td>\n",
       "      <td>9.791035</td>\n",
       "      <td>9.813434</td>\n",
       "      <td>21.053265</td>\n",
       "      <td>0.071775</td>\n",
       "      <td>0.024391</td>\n",
       "      <td>-0.017798</td>\n",
       "      <td>0.022562</td>\n",
       "      <td>0.654239</td>\n",
       "    </tr>\n",
       "    <tr>\n",
       "      <th>5192</th>\n",
       "      <td>6</td>\n",
       "      <td>0</td>\n",
       "      <td>13.072651</td>\n",
       "      <td>1.914320</td>\n",
       "      <td>4.626175</td>\n",
       "      <td>16.394695</td>\n",
       "      <td>10.496764</td>\n",
       "      <td>9.903225</td>\n",
       "      <td>9.916871</td>\n",
       "      <td>14.498268</td>\n",
       "      <td>0.024797</td>\n",
       "      <td>0.004169</td>\n",
       "      <td>-0.019305</td>\n",
       "      <td>0.000347</td>\n",
       "      <td>0.538921</td>\n",
       "    </tr>\n",
       "    <tr>\n",
       "      <th>19504</th>\n",
       "      <td>7</td>\n",
       "      <td>0</td>\n",
       "      <td>23.351917</td>\n",
       "      <td>13.017325</td>\n",
       "      <td>12.176386</td>\n",
       "      <td>25.230654</td>\n",
       "      <td>10.978680</td>\n",
       "      <td>9.789800</td>\n",
       "      <td>9.826470</td>\n",
       "      <td>14.097100</td>\n",
       "      <td>0.030940</td>\n",
       "      <td>-0.002493</td>\n",
       "      <td>-0.031118</td>\n",
       "      <td>0.002770</td>\n",
       "      <td>0.607374</td>\n",
       "    </tr>\n",
       "    <tr>\n",
       "      <th>9947</th>\n",
       "      <td>8</td>\n",
       "      <td>0</td>\n",
       "      <td>13.640000</td>\n",
       "      <td>2.380000</td>\n",
       "      <td>4.766909</td>\n",
       "      <td>17.830000</td>\n",
       "      <td>10.455471</td>\n",
       "      <td>9.641846</td>\n",
       "      <td>9.767926</td>\n",
       "      <td>13.513198</td>\n",
       "      <td>0.016438</td>\n",
       "      <td>0.000032</td>\n",
       "      <td>-0.026399</td>\n",
       "      <td>-0.003891</td>\n",
       "      <td>0.389575</td>\n",
       "    </tr>\n",
       "    <tr>\n",
       "      <th>11921</th>\n",
       "      <td>10</td>\n",
       "      <td>0</td>\n",
       "      <td>17.350000</td>\n",
       "      <td>9.580000</td>\n",
       "      <td>8.702027</td>\n",
       "      <td>20.050000</td>\n",
       "      <td>10.553129</td>\n",
       "      <td>9.494390</td>\n",
       "      <td>9.550677</td>\n",
       "      <td>14.308998</td>\n",
       "      <td>0.010777</td>\n",
       "      <td>-0.000476</td>\n",
       "      <td>-0.010410</td>\n",
       "      <td>0.002011</td>\n",
       "      <td>0.421323</td>\n",
       "    </tr>\n",
       "    <tr>\n",
       "      <th>1483</th>\n",
       "      <td>11</td>\n",
       "      <td>0</td>\n",
       "      <td>14.831651</td>\n",
       "      <td>5.192059</td>\n",
       "      <td>6.659024</td>\n",
       "      <td>17.876741</td>\n",
       "      <td>10.832978</td>\n",
       "      <td>9.877962</td>\n",
       "      <td>9.948639</td>\n",
       "      <td>13.337435</td>\n",
       "      <td>0.059475</td>\n",
       "      <td>-0.002859</td>\n",
       "      <td>-0.056616</td>\n",
       "      <td>-0.003971</td>\n",
       "      <td>0.525670</td>\n",
       "    </tr>\n",
       "    <tr>\n",
       "      <th>2333</th>\n",
       "      <td>16</td>\n",
       "      <td>0</td>\n",
       "      <td>14.950000</td>\n",
       "      <td>3.840000</td>\n",
       "      <td>6.094209</td>\n",
       "      <td>18.330000</td>\n",
       "      <td>10.694078</td>\n",
       "      <td>9.861508</td>\n",
       "      <td>9.919527</td>\n",
       "      <td>13.092974</td>\n",
       "      <td>0.030149</td>\n",
       "      <td>-0.003942</td>\n",
       "      <td>-0.042713</td>\n",
       "      <td>-0.005232</td>\n",
       "      <td>0.521107</td>\n",
       "    </tr>\n",
       "  </tbody>\n",
       "</table>\n",
       "</div>"
      ],
      "text/plain": [
       "       bookingID  label  90pct_speed  median_speed  mean_speed  max_speed  \\\n",
       "15035          0      0    19.506432     13.356852   11.429956  22.946083   \n",
       "13312          1      1    18.593060      6.904588    7.881588  21.882141   \n",
       "996            2      1     7.276345      2.998761    3.157213   9.360483   \n",
       "2328           4      1    16.150000      3.310000    6.150996  19.780001   \n",
       "5192           6      0    13.072651      1.914320    4.626175  16.394695   \n",
       "19504          7      0    23.351917     13.017325   12.176386  25.230654   \n",
       "9947           8      0    13.640000      2.380000    4.766909  17.830000   \n",
       "11921         10      0    17.350000      9.580000    8.702027  20.050000   \n",
       "1483          11      0    14.831651      5.192059    6.659024  17.876741   \n",
       "2333          16      0    14.950000      3.840000    6.094209  18.330000   \n",
       "\n",
       "       90pct_acceleration  median_acceleration  mean_acceleration  \\\n",
       "15035           10.642897             9.859265           9.893719   \n",
       "13312           10.462093             9.844748           9.862507   \n",
       "996             10.346133             9.877755           9.929590   \n",
       "2328            10.276516             9.791035           9.813434   \n",
       "5192            10.496764             9.903225           9.916871   \n",
       "19504           10.978680             9.789800           9.826470   \n",
       "9947            10.455471             9.641846           9.767926   \n",
       "11921           10.553129             9.494390           9.550677   \n",
       "1483            10.832978             9.877962           9.948639   \n",
       "2333            10.694078             9.861508           9.919527   \n",
       "\n",
       "       max_acceleration  75pct_gyro  median_gyro  25pct_gyro  mean_gyro  \\\n",
       "15035         12.988328    0.038963    -0.001943   -0.049647  -0.005533   \n",
       "13312         12.790147    0.023804    -0.003652   -0.034759  -0.007711   \n",
       "996           13.403410    0.023771     0.001292   -0.044196  -0.012706   \n",
       "2328          21.053265    0.071775     0.024391   -0.017798   0.022562   \n",
       "5192          14.498268    0.024797     0.004169   -0.019305   0.000347   \n",
       "19504         14.097100    0.030940    -0.002493   -0.031118   0.002770   \n",
       "9947          13.513198    0.016438     0.000032   -0.026399  -0.003891   \n",
       "11921         14.308998    0.010777    -0.000476   -0.010410   0.002011   \n",
       "1483          13.337435    0.059475    -0.002859   -0.056616  -0.003971   \n",
       "2333          13.092974    0.030149    -0.003942   -0.042713  -0.005232   \n",
       "\n",
       "       max_gyro  \n",
       "15035  0.417845  \n",
       "13312  0.465599  \n",
       "996    0.433975  \n",
       "2328   0.654239  \n",
       "5192   0.538921  \n",
       "19504  0.607374  \n",
       "9947   0.389575  \n",
       "11921  0.421323  \n",
       "1483   0.525670  \n",
       "2333   0.521107  "
      ]
     },
     "execution_count": 251,
     "metadata": {},
     "output_type": "execute_result"
    }
   ],
   "source": [
    "label_df.head(10)"
   ]
  },
  {
   "cell_type": "markdown",
   "metadata": {},
   "source": [
    "## Model Selection"
   ]
  },
  {
   "cell_type": "code",
   "execution_count": 252,
   "metadata": {},
   "outputs": [],
   "source": [
    "# from sklearn.linear_model import LogisticRegression\n",
    "# model = LogisticRegression()"
   ]
  },
  {
   "cell_type": "code",
   "execution_count": 253,
   "metadata": {},
   "outputs": [],
   "source": [
    "# from sklearn.neighbors import KNeighborsClassifier\n",
    "# model = KNeighborsClassifier()"
   ]
  },
  {
   "cell_type": "code",
   "execution_count": 254,
   "metadata": {},
   "outputs": [],
   "source": [
    "from sklearn import svm\n",
    "model = svm.SVC(kernel='linear', class_weight={1: 75, 0: 25})"
   ]
  },
  {
   "cell_type": "code",
   "execution_count": 255,
   "metadata": {},
   "outputs": [],
   "source": [
    "# from sklearn.ensemble import RandomForestClassifier\n",
    "# model = RandomForestClassifier()"
   ]
  },
  {
   "cell_type": "code",
   "execution_count": 256,
   "metadata": {},
   "outputs": [],
   "source": [
    "from sklearn.model_selection import train_test_split\n",
    "df_new = label_df.drop(['bookingID'], axis=1, inplace=False).copy()\n",
    "y = df_new['label'].values\n",
    "X = df_new.drop(['label'], axis=1).values\n",
    "\n",
    "X_train, X_test, y_train, y_test = train_test_split(X, y, test_size=0.3, random_state=42)"
   ]
  },
  {
   "cell_type": "code",
   "execution_count": 257,
   "metadata": {},
   "outputs": [],
   "source": [
    "# from sklearn.model_selection import train_test_split\n",
    "# df_new = label_df.drop(['bookingID'], axis=1, inplace=False).copy()\n",
    "# y = df_new['label'].values\n",
    "# X = df_new.drop(['label'], axis=1).values\n",
    "\n",
    "# X_train, X_test, y_train, y_test = train_test_split(X, y, test_size=0.3, random_state=42)"
   ]
  },
  {
   "cell_type": "code",
   "execution_count": 258,
   "metadata": {},
   "outputs": [
    {
     "data": {
      "text/plain": [
       "SVC(C=1.0, break_ties=False, cache_size=200, class_weight={0: 25, 1: 75},\n",
       "    coef0=0.0, decision_function_shape='ovr', degree=3, gamma='scale',\n",
       "    kernel='linear', max_iter=-1, probability=False, random_state=None,\n",
       "    shrinking=True, tol=0.001, verbose=False)"
      ]
     },
     "execution_count": 258,
     "metadata": {},
     "output_type": "execute_result"
    }
   ],
   "source": [
    "model.fit(X_train, y_train)"
   ]
  },
  {
   "cell_type": "code",
   "execution_count": 259,
   "metadata": {},
   "outputs": [],
   "source": [
    "y_hat = model.predict(X_test)"
   ]
  },
  {
   "cell_type": "code",
   "execution_count": 260,
   "metadata": {},
   "outputs": [
    {
     "name": "stdout",
     "output_type": "stream",
     "text": [
      "Accuracy score for the test set=62.33%\n"
     ]
    }
   ],
   "source": [
    "# Accuracy score for test set\n",
    "from sklearn.metrics import accuracy_score\n",
    "score = accuracy_score(y_test, y_hat)\n",
    "print(\"Accuracy score for the test set={:.2f}%\".format(score*100))"
   ]
  },
  {
   "cell_type": "code",
   "execution_count": 261,
   "metadata": {},
   "outputs": [
    {
     "data": {
      "text/plain": [
       "Text(24.0, 0.5, 'Truth')"
      ]
     },
     "execution_count": 261,
     "metadata": {},
     "output_type": "execute_result"
    },
    {
     "data": {
      "image/png": "[encoded data removed]",
      "text/plain": [
       "<Figure size 360x288 with 2 Axes>"
      ]
     },
     "metadata": {
      "needs_background": "light"
     },
     "output_type": "display_data"
    }
   ],
   "source": [
    "from sklearn.metrics import confusion_matrix\n",
    "import seaborn as sn\n",
    "import matplotlib.pyplot as plt\n",
    "\n",
    "cm = confusion_matrix(y_test, y_hat)\n",
    "plt.figure(figsize=(5, 4))\n",
    "sn.heatmap(cm, annot=True, fmt=\"d\")\n",
    "plt.xlabel('Predicted')\n",
    "plt.ylabel('Truth')"
   ]
  },
  {
   "cell_type": "code",
   "execution_count": 262,
   "metadata": {},
   "outputs": [
    {
     "data": {
      "text/plain": [
       "['model_svm.joblib']"
      ]
     },
     "execution_count": 262,
     "metadata": {},
     "output_type": "execute_result"
    }
   ],
   "source": [
    "from joblib import dump\n",
    "dump(model, 'model_svm.joblib')"
   ]
  },
  {
   "cell_type": "code",
   "execution_count": 264,
   "metadata": {},
   "outputs": [
    {
     "data": {
      "text/html": [
       "<div>\n",
       "<style scoped>\n",
       "    .dataframe tbody tr th:only-of-type {\n",
       "        vertical-align: middle;\n",
       "    }\n",
       "\n",
       "    .dataframe tbody tr th {\n",
       "        vertical-align: top;\n",
       "    }\n",
       "\n",
       "    .dataframe thead th {\n",
       "        text-align: right;\n",
       "    }\n",
       "</style>\n",
       "<table border=\"1\" class=\"dataframe\">\n",
       "  <thead>\n",
       "    <tr style=\"text-align: right;\">\n",
       "      <th></th>\n",
       "      <th>label</th>\n",
       "      <th>90pct_speed</th>\n",
       "      <th>median_speed</th>\n",
       "      <th>mean_speed</th>\n",
       "      <th>max_speed</th>\n",
       "      <th>90pct_acceleration</th>\n",
       "      <th>median_acceleration</th>\n",
       "      <th>mean_acceleration</th>\n",
       "      <th>max_acceleration</th>\n",
       "      <th>75pct_gyro</th>\n",
       "      <th>median_gyro</th>\n",
       "      <th>25pct_gyro</th>\n",
       "      <th>mean_gyro</th>\n",
       "      <th>max_gyro</th>\n",
       "    </tr>\n",
       "    <tr>\n",
       "      <th>bookingID</th>\n",
       "      <th></th>\n",
       "      <th></th>\n",
       "      <th></th>\n",
       "      <th></th>\n",
       "      <th></th>\n",
       "      <th></th>\n",
       "      <th></th>\n",
       "      <th></th>\n",
       "      <th></th>\n",
       "      <th></th>\n",
       "      <th></th>\n",
       "      <th></th>\n",
       "      <th></th>\n",
       "      <th></th>\n",
       "    </tr>\n",
       "  </thead>\n",
       "  <tbody>\n",
       "    <tr>\n",
       "      <th>0</th>\n",
       "      <td>0</td>\n",
       "      <td>19.506432</td>\n",
       "      <td>13.356852</td>\n",
       "      <td>11.429956</td>\n",
       "      <td>22.946083</td>\n",
       "      <td>10.642897</td>\n",
       "      <td>9.859265</td>\n",
       "      <td>9.893719</td>\n",
       "      <td>12.988328</td>\n",
       "      <td>0.038963</td>\n",
       "      <td>-0.001943</td>\n",
       "      <td>-0.049647</td>\n",
       "      <td>-0.005533</td>\n",
       "      <td>0.417845</td>\n",
       "    </tr>\n",
       "    <tr>\n",
       "      <th>1</th>\n",
       "      <td>1</td>\n",
       "      <td>18.593060</td>\n",
       "      <td>6.904588</td>\n",
       "      <td>7.881588</td>\n",
       "      <td>21.882141</td>\n",
       "      <td>10.462093</td>\n",
       "      <td>9.844748</td>\n",
       "      <td>9.862507</td>\n",
       "      <td>12.790147</td>\n",
       "      <td>0.023804</td>\n",
       "      <td>-0.003652</td>\n",
       "      <td>-0.034759</td>\n",
       "      <td>-0.007711</td>\n",
       "      <td>0.465599</td>\n",
       "    </tr>\n",
       "    <tr>\n",
       "      <th>2</th>\n",
       "      <td>1</td>\n",
       "      <td>7.276345</td>\n",
       "      <td>2.998761</td>\n",
       "      <td>3.157213</td>\n",
       "      <td>9.360483</td>\n",
       "      <td>10.346133</td>\n",
       "      <td>9.877755</td>\n",
       "      <td>9.929590</td>\n",
       "      <td>13.403410</td>\n",
       "      <td>0.023771</td>\n",
       "      <td>0.001292</td>\n",
       "      <td>-0.044196</td>\n",
       "      <td>-0.012706</td>\n",
       "      <td>0.433975</td>\n",
       "    </tr>\n",
       "    <tr>\n",
       "      <th>4</th>\n",
       "      <td>1</td>\n",
       "      <td>16.150000</td>\n",
       "      <td>3.310000</td>\n",
       "      <td>6.150996</td>\n",
       "      <td>19.780001</td>\n",
       "      <td>10.276516</td>\n",
       "      <td>9.791035</td>\n",
       "      <td>9.813434</td>\n",
       "      <td>21.053265</td>\n",
       "      <td>0.071775</td>\n",
       "      <td>0.024391</td>\n",
       "      <td>-0.017798</td>\n",
       "      <td>0.022562</td>\n",
       "      <td>0.654239</td>\n",
       "    </tr>\n",
       "    <tr>\n",
       "      <th>6</th>\n",
       "      <td>0</td>\n",
       "      <td>13.072651</td>\n",
       "      <td>1.914320</td>\n",
       "      <td>4.626175</td>\n",
       "      <td>16.394695</td>\n",
       "      <td>10.496764</td>\n",
       "      <td>9.903225</td>\n",
       "      <td>9.916871</td>\n",
       "      <td>14.498268</td>\n",
       "      <td>0.024797</td>\n",
       "      <td>0.004169</td>\n",
       "      <td>-0.019305</td>\n",
       "      <td>0.000347</td>\n",
       "      <td>0.538921</td>\n",
       "    </tr>\n",
       "    <tr>\n",
       "      <th>...</th>\n",
       "      <td>...</td>\n",
       "      <td>...</td>\n",
       "      <td>...</td>\n",
       "      <td>...</td>\n",
       "      <td>...</td>\n",
       "      <td>...</td>\n",
       "      <td>...</td>\n",
       "      <td>...</td>\n",
       "      <td>...</td>\n",
       "      <td>...</td>\n",
       "      <td>...</td>\n",
       "      <td>...</td>\n",
       "      <td>...</td>\n",
       "      <td>...</td>\n",
       "    </tr>\n",
       "    <tr>\n",
       "      <th>1709396983948</th>\n",
       "      <td>1</td>\n",
       "      <td>10.256955</td>\n",
       "      <td>5.374465</td>\n",
       "      <td>5.728263</td>\n",
       "      <td>17.458735</td>\n",
       "      <td>10.783066</td>\n",
       "      <td>9.776426</td>\n",
       "      <td>9.846999</td>\n",
       "      <td>12.348440</td>\n",
       "      <td>0.119787</td>\n",
       "      <td>0.014531</td>\n",
       "      <td>-0.074369</td>\n",
       "      <td>0.025107</td>\n",
       "      <td>0.790848</td>\n",
       "    </tr>\n",
       "    <tr>\n",
       "      <th>1709396983960</th>\n",
       "      <td>1</td>\n",
       "      <td>20.124878</td>\n",
       "      <td>11.847303</td>\n",
       "      <td>10.907217</td>\n",
       "      <td>24.059151</td>\n",
       "      <td>10.679500</td>\n",
       "      <td>9.828038</td>\n",
       "      <td>9.943253</td>\n",
       "      <td>13.119410</td>\n",
       "      <td>0.039052</td>\n",
       "      <td>0.002651</td>\n",
       "      <td>-0.037270</td>\n",
       "      <td>-0.002112</td>\n",
       "      <td>0.357245</td>\n",
       "    </tr>\n",
       "    <tr>\n",
       "      <th>1709396983966</th>\n",
       "      <td>1</td>\n",
       "      <td>20.200000</td>\n",
       "      <td>15.455000</td>\n",
       "      <td>12.289439</td>\n",
       "      <td>25.540000</td>\n",
       "      <td>10.117538</td>\n",
       "      <td>9.696443</td>\n",
       "      <td>9.708279</td>\n",
       "      <td>13.135711</td>\n",
       "      <td>0.020690</td>\n",
       "      <td>0.002173</td>\n",
       "      <td>-0.011538</td>\n",
       "      <td>0.002222</td>\n",
       "      <td>0.499698</td>\n",
       "    </tr>\n",
       "    <tr>\n",
       "      <th>1709396983971</th>\n",
       "      <td>1</td>\n",
       "      <td>13.909603</td>\n",
       "      <td>5.487141</td>\n",
       "      <td>6.155962</td>\n",
       "      <td>19.287226</td>\n",
       "      <td>10.457412</td>\n",
       "      <td>9.741793</td>\n",
       "      <td>9.775321</td>\n",
       "      <td>13.713888</td>\n",
       "      <td>0.016995</td>\n",
       "      <td>0.002464</td>\n",
       "      <td>-0.021153</td>\n",
       "      <td>-0.000630</td>\n",
       "      <td>3.991959</td>\n",
       "    </tr>\n",
       "    <tr>\n",
       "      <th>1709396983975</th>\n",
       "      <td>1</td>\n",
       "      <td>10.856961</td>\n",
       "      <td>2.954595</td>\n",
       "      <td>4.838728</td>\n",
       "      <td>15.711153</td>\n",
       "      <td>10.217613</td>\n",
       "      <td>9.802043</td>\n",
       "      <td>9.795172</td>\n",
       "      <td>11.121222</td>\n",
       "      <td>0.015869</td>\n",
       "      <td>0.010296</td>\n",
       "      <td>0.004491</td>\n",
       "      <td>0.021588</td>\n",
       "      <td>0.397505</td>\n",
       "    </tr>\n",
       "  </tbody>\n",
       "</table>\n",
       "<p>19368 rows × 14 columns</p>\n",
       "</div>"
      ],
      "text/plain": [
       "               label  90pct_speed  median_speed  mean_speed  max_speed  \\\n",
       "bookingID                                                                \n",
       "0                  0    19.506432     13.356852   11.429956  22.946083   \n",
       "1                  1    18.593060      6.904588    7.881588  21.882141   \n",
       "2                  1     7.276345      2.998761    3.157213   9.360483   \n",
       "4                  1    16.150000      3.310000    6.150996  19.780001   \n",
       "6                  0    13.072651      1.914320    4.626175  16.394695   \n",
       "...              ...          ...           ...         ...        ...   \n",
       "1709396983948      1    10.256955      5.374465    5.728263  17.458735   \n",
       "1709396983960      1    20.124878     11.847303   10.907217  24.059151   \n",
       "1709396983966      1    20.200000     15.455000   12.289439  25.540000   \n",
       "1709396983971      1    13.909603      5.487141    6.155962  19.287226   \n",
       "1709396983975      1    10.856961      2.954595    4.838728  15.711153   \n",
       "\n",
       "               90pct_acceleration  median_acceleration  mean_acceleration  \\\n",
       "bookingID                                                                   \n",
       "0                       10.642897             9.859265           9.893719   \n",
       "1                       10.462093             9.844748           9.862507   \n",
       "2                       10.346133             9.877755           9.929590   \n",
       "4                       10.276516             9.791035           9.813434   \n",
       "6                       10.496764             9.903225           9.916871   \n",
       "...                           ...                  ...                ...   \n",
       "1709396983948           10.783066             9.776426           9.846999   \n",
       "1709396983960           10.679500             9.828038           9.943253   \n",
       "1709396983966           10.117538             9.696443           9.708279   \n",
       "1709396983971           10.457412             9.741793           9.775321   \n",
       "1709396983975           10.217613             9.802043           9.795172   \n",
       "\n",
       "               max_acceleration  75pct_gyro  median_gyro  25pct_gyro  \\\n",
       "bookingID                                                              \n",
       "0                     12.988328    0.038963    -0.001943   -0.049647   \n",
       "1                     12.790147    0.023804    -0.003652   -0.034759   \n",
       "2                     13.403410    0.023771     0.001292   -0.044196   \n",
       "4                     21.053265    0.071775     0.024391   -0.017798   \n",
       "6                     14.498268    0.024797     0.004169   -0.019305   \n",
       "...                         ...         ...          ...         ...   \n",
       "1709396983948         12.348440    0.119787     0.014531   -0.074369   \n",
       "1709396983960         13.119410    0.039052     0.002651   -0.037270   \n",
       "1709396983966         13.135711    0.020690     0.002173   -0.011538   \n",
       "1709396983971         13.713888    0.016995     0.002464   -0.021153   \n",
       "1709396983975         11.121222    0.015869     0.010296    0.004491   \n",
       "\n",
       "               mean_gyro  max_gyro  \n",
       "bookingID                           \n",
       "0              -0.005533  0.417845  \n",
       "1              -0.007711  0.465599  \n",
       "2              -0.012706  0.433975  \n",
       "4               0.022562  0.654239  \n",
       "6               0.000347  0.538921  \n",
       "...                  ...       ...  \n",
       "1709396983948   0.025107  0.790848  \n",
       "1709396983960  -0.002112  0.357245  \n",
       "1709396983966   0.002222  0.499698  \n",
       "1709396983971  -0.000630  3.991959  \n",
       "1709396983975   0.021588  0.397505  \n",
       "\n",
       "[19368 rows x 14 columns]"
      ]
     },
     "execution_count": 264,
     "metadata": {},
     "output_type": "execute_result"
    }
   ],
   "source": [
    "label_df.set_index('bookingID', drop=True)"
   ]
  }
 ],
 "metadata": {
  "kernelspec": {
   "display_name": "Python 3.7.6 64-bit ('base': conda)",
   "language": "python",
   "name": "python37664bitbasecondabef20daff77047cf9fad7297c365ca28"
  },
  "language_info": {
   "codemirror_mode": {
    "name": "ipython",
    "version": 3
   },
   "file_extension": ".py",
   "mimetype": "text/x-python",
   "name": "python",
   "nbconvert_exporter": "python",
   "pygments_lexer": "ipython3",
   "version": "3.7.6"
  }
 },
 "nbformat": 4,
 "nbformat_minor": 4
}
